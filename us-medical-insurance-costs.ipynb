{
 "cells": [
  {
   "cell_type": "markdown",
   "metadata": {},
   "source": [
    "# U.S. Medical Insurance Costs"
   ]
  },
  {
   "cell_type": "code",
   "execution_count": 56,
   "metadata": {},
   "outputs": [],
   "source": [
    "import csv\n",
    "\n",
    "age = []\n",
    "sex = []\n",
    "bmi = []\n",
    "num_of_children = []\n",
    "smoke = []\n",
    "region = []\n",
    "cost = []"
   ]
  },
  {
   "cell_type": "code",
   "execution_count": 57,
   "metadata": {},
   "outputs": [],
   "source": [
    "def load_list_data(lst,csv_file,column_name):\n",
    "    with open(csv_file) as csv_info:#opens csv file\n",
    "        csv_dict = csv.DictReader(csv_info)#reads csv file as dictionary\n",
    "        for row in csv_dict:#iterates through dict\n",
    "            lst.append(row[column_name])#splits data into new lists\n",
    "        return lst#returns desired list"
   ]
  },
  {
   "cell_type": "code",
   "execution_count": 60,
   "metadata": {},
   "outputs": [
    {
     "name": "stdout",
     "output_type": "stream",
     "text": [
      "Placeholder\n"
     ]
    }
   ],
   "source": [
    "load_list_data(age,\"insurance.csv\",\"age\")\n",
    "load_list_data(sex,\"insurance.csv\",\"sex\")\n",
    "load_list_data(bmi, 'insurance.csv', 'bmi')\n",
    "load_list_data(num_of_children, 'insurance.csv', 'children')\n",
    "load_list_data(smoke, 'insurance.csv', 'smoker')\n",
    "load_list_data(cost, 'insurance.csv', 'charges')\n",
    "print('Placeholder')"
   ]
  },
  {
   "cell_type": "code",
   "execution_count": 4,
   "metadata": {},
   "outputs": [],
   "source": [
    "class PatientsInfo:\n",
    "    def __init__(self,patients_age,patients_sex,patients_bmi,patients_num_of_children,patients_smoke,\n",
    "                 patients_region,patients_cost):\n",
    "        self.patients_age = patients_age\n",
    "        self.patients_sex = patients_sex\n",
    "        self.patients_bmi = patients_bmi\n",
    "        self.patients_num_of_children = patients_num_of_children\n",
    "        self.patients_smoke = patients_smoke\n",
    "        self.patients_region = patients_region\n",
    "        self.patients_cost = patients_cost\n",
    "        \n",
    "    def average_age(self):\n",
    "        total_age = 0\n",
    "        for age in self.patients_age:\n",
    "            total_age += int(age)\n",
    "        return(\"Average Patient Age: \" + str(round(total_age/len(self.patients_age), 2)) + \" Years.\")\n",
    "    \n",
    "    def analyse_sex(self):\n",
    "        total_men = 0\n",
    "        total_women = 0\n",
    "        for sex in self.patients_sex:\n",
    "            if sex == \"male\":\n",
    "                total_men += 1\n",
    "            elif sex == \"female\":\n",
    "                total_women += 1\n",
    "        print(\"There are \" + str(total_men) + \" men in total.\")\n",
    "        print(\"There are \" + str(total_women) + \" women in total.\")\n",
    "\n",
    "    def analyse_bmi(self):\n",
    "        total_bmi = 0\n",
    "        for bmi in self.patients_bmi:\n",
    "            total_bmi += float(bmi)\n",
    "        return(\"Average BMI of Patient: \" + str(round(total_bmi/len(self.patients_bmi), 2)) + \" BMI.\")\n",
    "    \n",
    "    def analyse_num_of_children(self):\n",
    "        total_children = 0\n",
    "        for children in self.patients_num_of_children:\n",
    "            total_children += int(children)\n",
    "        return(\"Average Amount Of Children: \" + str(round(total_children/len(self.patients_num_of_children), 1)) + \" Children.\")\n",
    "    \n",
    "    def analyse_smokers(self):\n",
    "        total_smokers = 0\n",
    "        for smoker in self.patients_smoke:\n",
    "            if smoker == 'yes':\n",
    "                total_smokers += 1\n",
    "            else:\n",
    "                continue\n",
    "        return(\"Percentage of group that smokes: \" + str(round(total_smokers/len(self.patients_smoke)*100, 2)) + \"%\")\n",
    "    \n",
    "    def unique_regions(self):\n",
    "        unique_regions = []\n",
    "        for region in self.patients_region:\n",
    "            if region not in unique_regions:\n",
    "                unique_regions.append(region)\n",
    "        return unique_regions\n",
    "    \n",
    "    def average_cost(self):\n",
    "        total_cost = 0\n",
    "        for cost in self.patients_cost:\n",
    "            total_cost += float(cost)\n",
    "        return(\"Average Cost of Medical Insurance: \" + str(round(total_cost/len(self.patients_cost), 2)) + \" Dollars\")\n",
    "    \n",
    "    def create_dictionary(self):\n",
    "        self.patients_dictionary = {}\n",
    "        self.patients_dictionary[\"age\"] = [int(age) for age in self.patients_age]\n",
    "        self.patients_dictionary[\"sex\"] = self.patients_sex\n",
    "        self.patients_dictionary[\"bmi\"] = self.patients_bmi\n",
    "        self.patients_dictionary[\"children\"] = self.patients_num_of_children\n",
    "        self.patients_dictionary[\"smoker\"] = self.patients_smoke\n",
    "        self.patients_dictionary[\"regions\"] = self.patients_region\n",
    "        self.patients_dictionary[\"charges\"] = self.patients_cost\n",
    "        return self.patients_dictionary"
   ]
  },
  {
   "cell_type": "code",
   "execution_count": 5,
   "metadata": {},
   "outputs": [],
   "source": [
    "patient_info = PatientsInfo(age, sex, bmi, num_of_children, smoke, region, cost)"
   ]
  },
  {
   "cell_type": "code",
   "execution_count": 6,
   "metadata": {},
   "outputs": [
    {
     "data": {
      "text/plain": [
       "'Average Patient Age: 39.21 Years.'"
      ]
     },
     "execution_count": 6,
     "metadata": {},
     "output_type": "execute_result"
    }
   ],
   "source": [
    "patient_info.average_age()"
   ]
  },
  {
   "cell_type": "code",
   "execution_count": 7,
   "metadata": {},
   "outputs": [
    {
     "name": "stdout",
     "output_type": "stream",
     "text": [
      "There are 676 men in total.\n",
      "There are 662 women in total.\n"
     ]
    }
   ],
   "source": [
    "patient_info.analyse_sex()"
   ]
  },
  {
   "cell_type": "code",
   "execution_count": 8,
   "metadata": {},
   "outputs": [
    {
     "data": {
      "text/plain": [
       "'Average BMI of Patient: 30.66 BMI.'"
      ]
     },
     "execution_count": 8,
     "metadata": {},
     "output_type": "execute_result"
    }
   ],
   "source": [
    "patient_info.analyse_bmi()"
   ]
  },
  {
   "cell_type": "code",
   "execution_count": 9,
   "metadata": {},
   "outputs": [
    {
     "data": {
      "text/plain": [
       "'Average Amount Of Children: 1.1 Children.'"
      ]
     },
     "execution_count": 9,
     "metadata": {},
     "output_type": "execute_result"
    }
   ],
   "source": [
    "patient_info.analyse_num_of_children()"
   ]
  },
  {
   "cell_type": "code",
   "execution_count": 10,
   "metadata": {},
   "outputs": [
    {
     "data": {
      "text/plain": [
       "'Percentage of group that smokes: 20.48%'"
      ]
     },
     "execution_count": 10,
     "metadata": {},
     "output_type": "execute_result"
    }
   ],
   "source": [
    "patient_info.analyse_smokers()"
   ]
  },
  {
   "cell_type": "code",
   "execution_count": 11,
   "metadata": {},
   "outputs": [
    {
     "data": {
      "text/plain": [
       "[]"
      ]
     },
     "execution_count": 11,
     "metadata": {},
     "output_type": "execute_result"
    }
   ],
   "source": [
    "patient_info.unique_regions()"
   ]
  },
  {
   "cell_type": "code",
   "execution_count": 12,
   "metadata": {},
   "outputs": [
    {
     "data": {
      "text/plain": [
       "'Average Cost of Medical Insurance: 13270.42 Dollars'"
      ]
     },
     "execution_count": 12,
     "metadata": {},
     "output_type": "execute_result"
    }
   ],
   "source": [
    "patient_info.average_cost()"
   ]
  },
  {
   "cell_type": "code",
   "execution_count": 61,
   "metadata": {},
   "outputs": [
    {
     "name": "stdout",
     "output_type": "stream",
     "text": [
      "Placeholder\n"
     ]
    }
   ],
   "source": [
    "patient_info.create_dictionary()\n",
    "print('Placeholder')"
   ]
  },
  {
   "cell_type": "code",
   "execution_count": 62,
   "metadata": {},
   "outputs": [],
   "source": [
    "age_float = []\n",
    "cost_float = []\n",
    "bmi_float = []\n",
    "\n",
    "for i in range(len(age)):\n",
    "    age_float.append(float(age[i]))\n",
    "    cost_float.append(float(cost[i]))\n",
    "    bmi_float.append(float(bmi[i]))\n",
    "    \n",
    "age_sorted = sorted(age_float)\n",
    "cost_sorted = sorted(cost_float)\n",
    "bmi_sorted = sorted(bmi_float)\n"
   ]
  },
  {
   "cell_type": "code",
   "execution_count": 63,
   "metadata": {},
   "outputs": [
    {
     "data": {
      "image/png": "[encoded data removed]",
      "text/plain": [
       "<Figure size 720x432 with 1 Axes>"
      ]
     },
     "metadata": {
      "needs_background": "light"
     },
     "output_type": "display_data"
    }
   ],
   "source": [
    "import matplotlib.pyplot as plt\n",
    "plt.figure(figsize = (10,6))\n",
    "plt.plot(bmi_sorted, cost_sorted, '-')\n",
    "plt.show()"
   ]
  },
  {
   "cell_type": "code",
   "execution_count": null,
   "metadata": {},
   "outputs": [],
   "source": []
  }
 ],
 "metadata": {
  "kernelspec": {
   "display_name": "Python 3",
   "language": "python",
   "name": "python3"
  },
  "language_info": {
   "codemirror_mode": {
    "name": "ipython",
    "version": 3
   },
   "file_extension": ".py",
   "mimetype": "text/x-python",
   "name": "python",
   "nbconvert_exporter": "python",
   "pygments_lexer": "ipython3",
   "version": "3.7.4"
  }
 },
 "nbformat": 4,
 "nbformat_minor": 4
}
